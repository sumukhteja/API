{
 "cells": [
  {
   "cell_type": "code",
   "execution_count": 5,
   "id": "d3d14a50",
   "metadata": {},
   "outputs": [
    {
     "name": "stdout",
     "output_type": "stream",
     "text": [
      "Tag                 Path                        address    age              city                 name                 person    root                  street\n",
      "0                                                   NaN    NaN               NaN                  NaN                    NaN  \\n                         NaN\n",
      "1                   root                            NaN    NaN               NaN                  NaN  \\n        |\\n             NaN                     NaN\n",
      "2            root_person  \\n            |\\n              30|25               NaN  John Doe|Jane Smith                    NaN     NaN                     NaN\n",
      "3    root_person_address                            NaN    NaN  Anytown|Somecity                  NaN                    NaN     NaN  123 Main St|456 Elm St\n"
     ]
    }
   ],
   "source": [
    "import xml.etree.ElementTree as ET\n",
    "import pandas as pd\n",
    "\n",
    "def xml_to_dataframe(xml_string):\n",
    "    root = ET.fromstring(xml_string)\n",
    "    data = []\n",
    "\n",
    "    def parse_element(element, parent_path=\"\"):\n",
    "        path = parent_path + element.tag\n",
    "        if element.attrib:\n",
    "            path += \"_\" + \"_\".join([f\"{k}_{v}\" for k, v in element.attrib.items()])\n",
    "        if element.text:\n",
    "            data.append((path, element.text))\n",
    "        for child in element:\n",
    "            parse_element(child, parent_path=path + \"_\")\n",
    "\n",
    "    parse_element(root)\n",
    "\n",
    "    df = pd.DataFrame(data, columns=[\"Path\", \"Value\"])\n",
    "    df[\"Tag\"] = df[\"Path\"].apply(lambda x: x.split(\"_\")[-1])\n",
    "    df[\"Path\"] = df[\"Path\"].apply(lambda x: \"_\".join(x.split(\"_\")[:-1]))\n",
    "    df = df.groupby([\"Path\", \"Tag\"])[\"Value\"].apply(lambda x: \"|\".join(x)).reset_index()\n",
    "    df = df.pivot(index=\"Path\", columns=\"Tag\", values=\"Value\").reset_index()\n",
    "\n",
    "    return df\n",
    "\n",
    "# Example XML string\n",
    "xml_string = \"\"\"\n",
    "<root>\n",
    "    <person>\n",
    "        <name>John Doe</name>\n",
    "        <age>30</age>\n",
    "        <address>\n",
    "            <street>123 Main St</street>\n",
    "            <city>Anytown</city>\n",
    "        </address>\n",
    "    </person>\n",
    "    <person>\n",
    "        <name>Jane Smith</name>\n",
    "        <age>25</age>\n",
    "        <address>\n",
    "            <street>456 Elm St</street>\n",
    "            <city>Somecity</city>\n",
    "        </address>\n",
    "    </person>\n",
    "</root>\n",
    "\"\"\"\n",
    "\n",
    "# Convert XML to DataFrame\n",
    "df = xml_to_dataframe(xml_string)\n",
    "\n",
    "# Print the DataFrame\n",
    "print(df)\n"
   ]
  }
 ],
 "metadata": {
  "kernelspec": {
   "display_name": "Python 3 (ipykernel)",
   "language": "python",
   "name": "python3"
  },
  "language_info": {
   "codemirror_mode": {
    "name": "ipython",
    "version": 3
   },
   "file_extension": ".py",
   "mimetype": "text/x-python",
   "name": "python",
   "nbconvert_exporter": "python",
   "pygments_lexer": "ipython3",
   "version": "3.11.3"
  }
 },
 "nbformat": 4,
 "nbformat_minor": 5
}
